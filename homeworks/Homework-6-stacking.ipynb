{
 "cells": [
  {
   "cell_type": "markdown",
   "metadata": {},
   "source": [
    "### Jose Mijangos<br>CST 463<br>Oct 10, 2018\n",
    "# Stacking Regressor for Diabetes dataset\n",
    "## Introduction\n",
    "The Diabetes dataset contains ten features that characterize a person's health. An eleventh feature measures the progression of the disease one year after baseline. Our goal is to implement a stacking regressor and compare its performance to linear regression. We will do this by testing how well these regressors generalize the feature that measures the progression of diabetes.\n",
    "## Imported Modules"
   ]
  },
  {
   "cell_type": "code",
   "execution_count": 1,
   "metadata": {},
   "outputs": [],
   "source": [
    "%matplotlib inline\n",
    "from sklearn import preprocessing\n",
    "import warnings\n",
    "if __name__ == '__main__':\n",
    "    warnings.filterwarnings(action='ignore', category=DeprecationWarning)\n",
    "import numpy as np\n",
    "import numpy.linalg as LA\n",
    "import matplotlib.pyplot as plt\n",
    "import matplotlib.cm as cm\n",
    "from sklearn import datasets\n",
    "from sklearn.pipeline import make_pipeline\n",
    "from sklearn.preprocessing import RobustScaler\n",
    "from sklearn.model_selection import KFold, cross_val_score, train_test_split\n",
    "from sklearn import svm\n",
    "from sklearn.linear_model import LinearRegression\n",
    "from sklearn.kernel_ridge import KernelRidge\n",
    "from sklearn.linear_model import ElasticNet, Lasso\n",
    "from sklearn.neighbors import KNeighborsClassifier\n",
    "from sklearn.base import BaseEstimator, TransformerMixin, RegressorMixin, clone"
   ]
  },
  {
   "cell_type": "markdown",
   "metadata": {},
   "source": [
    "## Stacking Regressor Class\n",
    "This particular stacking regressor class has only one blender, but supports any number of predictors. The class utilizes cross validation and comes equipped with fit, predict, and score functions. The score function outputs the R<sup>2</sup> value."
   ]
  },
  {
   "cell_type": "code",
   "execution_count": 2,
   "metadata": {},
   "outputs": [],
   "source": [
    "class StackingRegressor(BaseEstimator, RegressorMixin, TransformerMixin):\n",
    "    def __init__(self, predictors, meta_model, n_folds=10):\n",
    "        self.predictors = predictors\n",
    "        self.meta_model = meta_model\n",
    "        self.n_folds = n_folds\n",
    "   \n",
    "    def fit(self, X, y):\n",
    "        self.predictors_ = [list() for x in self.predictors]\n",
    "        self.meta_model_ = clone(self.meta_model)\n",
    "        kfold = KFold(n_splits=self.n_folds, shuffle=True, random_state=156)\n",
    "        out_of_fold_predictions = np.zeros((X.shape[0], len(self.predictors)))\n",
    "        for i, model in enumerate(self.predictors):\n",
    "            for train_index, holdout_index in kfold.split(X, y):\n",
    "                instance = clone(model)\n",
    "                self.predictors_[i].append(instance)\n",
    "                instance.fit(X[train_index], y[train_index])\n",
    "                y_pred = instance.predict(X[holdout_index])\n",
    "                out_of_fold_predictions[holdout_index, i] = y_pred \n",
    "        self.meta_model_.fit(out_of_fold_predictions, y)\n",
    "        return self\n",
    "   \n",
    "    def predict(self, X):\n",
    "        meta_features = np.column_stack([\n",
    "            np.column_stack([model.predict(X) for model in predictors]).mean(axis=1)\n",
    "            for predictors in self.predictors_ ])\n",
    "        return self.meta_model_.predict(meta_features)\n",
    "    \n",
    "    def score(self, X, y):\n",
    "        meta_features = np.column_stack([\n",
    "            np.column_stack([model.predict(X) for model in predictors]).mean(axis=1)\n",
    "            for predictors in self.predictors_ ])\n",
    "        p = self.meta_model_.predict(meta_features)\n",
    "        return 1 - sum((y - p)**2)/sum((y - np.mean(y))**2)"
   ]
  },
  {
   "cell_type": "markdown",
   "metadata": {},
   "source": [
    "## Preparing Data for Machine Learning\n",
    "We retrieve the Diabetes dataset from sklearn. Then we store the independent features in X and the target feature in y."
   ]
  },
  {
   "cell_type": "code",
   "execution_count": 3,
   "metadata": {},
   "outputs": [],
   "source": [
    "dat = datasets.load_diabetes()\n",
    "X, y = dat[\"data\"], dat[\"target\"]"
   ]
  },
  {
   "cell_type": "markdown",
   "metadata": {},
   "source": [
    "Next, we split the data so that 80% of the instances are used as the training set and the rest are used as the test set."
   ]
  },
  {
   "cell_type": "code",
   "execution_count": 4,
   "metadata": {},
   "outputs": [],
   "source": [
    "X_train,X_test,y_train,y_test=train_test_split(X,y,test_size=0.20,random_state=1)"
   ]
  },
  {
   "cell_type": "markdown",
   "metadata": {},
   "source": [
    "## Blender and Base Regressors\n",
    "For our blender we will be using lasso regression. Elastic net, kernel ridge regression, k nearest neighbor and a polynomial SVM will serve as our base regressors."
   ]
  },
  {
   "cell_type": "code",
   "execution_count": 5,
   "metadata": {},
   "outputs": [],
   "source": [
    "lasso = make_pipeline(RobustScaler(), Lasso(alpha =0.0005, random_state=1))\n",
    "\n",
    "ENet = make_pipeline(RobustScaler(), ElasticNet(alpha=0.0005, l1_ratio=.75,random_state=3))\n",
    "KRR = KernelRidge(alpha=0.6, kernel='polynomial', degree=2, coef0=2.5)\n",
    "knn = KNeighborsClassifier(n_neighbors=2)\n",
    "sv = svm.SVC(kernel='poly')"
   ]
  },
  {
   "cell_type": "markdown",
   "metadata": {},
   "source": [
    "## R<sup>2</sup> value on Test data\n",
    "The R<sup>2</sup> value provides a lot of information about the performance of a regressor. A perfect regressor would score a R<sup>2</sup> value of 1. If a regressor's R<sup>2</sup> value is negative, that means a simple horizontal line would performs better than that regressor."
   ]
  },
  {
   "cell_type": "code",
   "execution_count": 6,
   "metadata": {},
   "outputs": [
    {
     "name": "stdout",
     "output_type": "stream",
     "text": [
      "StackingRegressor 0.43134629698615057\n",
      "LinearRegression 0.43843604017332694\n"
     ]
    }
   ],
   "source": [
    "stacking_regr = StackingRegressor(predictors=(KRR,ENet,sv,knn), meta_model=lasso)\n",
    "stacking_regr.fit(X_train, y_train)\n",
    "print(stacking_regr.__class__.__name__, stacking_regr.score(X_test, y_test))\n",
    "\n",
    "linear_regr = LinearRegression()\n",
    "linear_regr.fit(X_train, y_train)\n",
    "print(linear_regr.__class__.__name__, linear_regr.score(X_test, y_test))"
   ]
  },
  {
   "cell_type": "markdown",
   "metadata": {},
   "source": [
    "## Cross Validated MSE\n",
    "We will use cross validation to ensure that our results are reliable. A perfect regressor would score a MSE value of 0. "
   ]
  },
  {
   "cell_type": "code",
   "execution_count": 7,
   "metadata": {},
   "outputs": [
    {
     "name": "stdout",
     "output_type": "stream",
     "text": [
      "StackingRegressor 3001.2449536896247\n",
      "LinearRegression 2993.0729432998864\n"
     ]
    }
   ],
   "source": [
    "print(stacking_regr.__class__.__name__, \n",
    "-np.mean(cross_val_score(stacking_regr,X,y,cv=5,scoring=\"neg_mean_squared_error\")))\n",
    "print(linear_regr.__class__.__name__, \n",
    "-np.mean(cross_val_score(linear_regr,X,y,cv=5,scoring=\"neg_mean_squared_error\")))"
   ]
  },
  {
   "cell_type": "markdown",
   "metadata": {},
   "source": [
    "## Conclusion\n",
    "The stacking regressor we built has a similar R<sup>2</sup> value to linear regression on the test data. However, this could just be a result of how we split the data.<br><br>\n",
    "The results we obtained from computing cross validated MSE are much more reliable. The MSE scores of both regressors are nearly the same with linear regression getting an ever so slightly better score.<br><br>\n",
    "So we can conclude that for the Diabetes dataset, linear regression will perform just as well as our stacking regression model."
   ]
  }
 ],
 "metadata": {
  "kernelspec": {
   "display_name": "Python 3",
   "language": "python",
   "name": "python3"
  },
  "language_info": {
   "codemirror_mode": {
    "name": "ipython",
    "version": 3
   },
   "file_extension": ".py",
   "mimetype": "text/x-python",
   "name": "python",
   "nbconvert_exporter": "python",
   "pygments_lexer": "ipython3",
   "version": "3.6.5"
  }
 },
 "nbformat": 4,
 "nbformat_minor": 2
}
