{
 "cells": [
  {
   "cell_type": "markdown",
   "metadata": {},
   "source": [
    "# Cats and Dogs Convolutional Neural Network\n",
    "### CST 463<br>Jose Mijangos\n",
    "\n",
    "## Imported Modules\n",
    "We will create a Convolutional Neural Network for image classification of cats and dogs. The images for training come from the CIFAR-10 data set. The number of images of cats and dogs is limited so we will alter the data to increase the diversity of the data. "
   ]
  },
  {
   "cell_type": "code",
   "execution_count": 220,
   "metadata": {},
   "outputs": [],
   "source": [
    "import tensorflow as tf\n",
    "import numpy as np\n",
    "import pandas as pd\n",
    "import matplotlib.pyplot as plt\n",
    "import seaborn as sns\n",
    "from datetime import datetime\n",
    "from sklearn.metrics import confusion_matrix"
   ]
  },
  {
   "cell_type": "markdown",
   "metadata": {},
   "source": [
    "## Utility Functions\n",
    "unpickle allows us to open the CIFAR file and access a dictionary containing the data and labels. \n",
    "<br>shuffle_batches returns a random sample from given batch data."
   ]
  },
  {
   "cell_type": "code",
   "execution_count": 280,
   "metadata": {},
   "outputs": [],
   "source": [
    "def unpickle(file):\n",
    "    import pickle\n",
    "    with open(file, 'rb') as fo:\n",
    "        dict = pickle.load(fo, encoding='bytes')\n",
    "    return dict\n",
    "\n",
    "def shuffle_batch(X, y, batch_size):\n",
    "    rnd_idx = np.random.permutation(len(X))\n",
    "    n_batches = len(X) // batch_size\n",
    "    for batch_idx in np.array_split(rnd_idx, n_batches):\n",
    "        X_batch, y_batch = X[batch_idx, :], y[batch_idx]\n",
    "        yield X_batch, y_batch"
   ]
  },
  {
   "cell_type": "markdown",
   "metadata": {},
   "source": [
    "## Load Data\n",
    "\n",
    "The data was retrieved from Dr. Bruns Google Drive. It contains five training batches of 10000 instances, one test batch of 10000, and a ReadMe file describing the data."
   ]
  },
  {
   "cell_type": "code",
   "execution_count": 223,
   "metadata": {},
   "outputs": [],
   "source": [
    "# load training data\n",
    "base_path = 'C:/Users/jose/CST_463/cifar-10-batches-py/data_batch_'\n",
    "filenames = [base_path + str(i) for i in range(1, 6)]\n",
    "batches = [unpickle(batch) for batch in filenames]\n",
    "\n",
    "first_done = False\n",
    "for batch in batches:\n",
    "    if not first_done:\n",
    "        X_train_all = batch[b'data']\n",
    "        y_train_all = np.array(batch[b'labels'])\n",
    "        first_done = True\n",
    "    else:\n",
    "        X_train_all = np.vstack((X_train_all, batch[b'data']))\n",
    "        y_train_all = np.concatenate((y_train_all, batch[b'labels']))\n",
    "\n",
    "# load test data\n",
    "test_batch = unpickle('C:/Users/jose/CST_463/cifar-10-batches-py/test_batch')\n",
    "X_test_all = test_batch[b'data']\n",
    "y_test_all = np.array(test_batch[b'labels'])"
   ]
  },
  {
   "cell_type": "markdown",
   "metadata": {},
   "source": [
    "## Select only images of Cats and Dogs\n",
    "We select only the data and labels of cats and dogs."
   ]
  },
  {
   "cell_type": "code",
   "execution_count": 325,
   "metadata": {},
   "outputs": [],
   "source": [
    "# Select training data\n",
    "X_train = X_train_all[(y_train_all == 3) | (y_train_all == 5)]\n",
    "y_train = y_train_all[(y_train_all == 3) | (y_train_all == 5)]\n",
    "\n",
    "# Select test data\n",
    "X_test = X_test_all[(y_test_all == 3) | (y_test_all == 5)]\n",
    "y_test = y_test_all[(y_test_all == 3) | (y_test_all == 5)]"
   ]
  },
  {
   "cell_type": "markdown",
   "metadata": {},
   "source": [
    "## Convolutional Neural Network Structure\n",
    "Here we define a layout for our convolutional neural network."
   ]
  },
  {
   "cell_type": "code",
   "execution_count": 437,
   "metadata": {},
   "outputs": [],
   "source": [
    "# Input dimensions\n",
    "height = 32\n",
    "width = 32\n",
    "channels = 3\n",
    "n_inputs = height * width * channels\n",
    "\n",
    "# Convolutional layer\n",
    "conv1_fmaps = 48\n",
    "conv1_ksize = 2\n",
    "conv1_stride = 1\n",
    "conv1_pad = \"SAME\"\n",
    "\n",
    "# Convolutional layer\n",
    "conv2_fmaps = 96\n",
    "conv2_ksize = 2\n",
    "conv2_stride = 2\n",
    "conv2_pad = \"SAME\"\n",
    "\n",
    "# Convolutional layer\n",
    "conv3_fmaps = 192\n",
    "conv3_ksize = 2\n",
    "conv3_stride = 1\n",
    "conv3_pad = \"SAME\"\n",
    "\n",
    "# Pooling layers\n",
    "pool1_fmaps = conv1_fmaps\n",
    "pool2_fmaps = conv2_fmaps\n",
    "pool3_fmaps = conv3_fmaps\n",
    "\n",
    "# Hidden layers\n",
    "n_fc1 = 512\n",
    "n_fc2 = 256\n",
    "n_fc3 = 128\n",
    "n_fc4 = 128\n",
    "n_fc5 = 128\n",
    "\n",
    "# Output layer\n",
    "n_outputs = 2"
   ]
  },
  {
   "cell_type": "markdown",
   "metadata": {},
   "source": [
    "## Construction Phase\n",
    "Now we actually wire the convolutional neural network together."
   ]
  },
  {
   "cell_type": "code",
   "execution_count": 450,
   "metadata": {},
   "outputs": [],
   "source": [
    "tf.reset_default_graph()\n",
    "\n",
    "# he initialization and training parameter for drop out\n",
    "he_init = tf.contrib.layers.variance_scaling_initializer(mode=\"FAN_AVG\")\n",
    "training = tf.placeholder_with_default(False, shape=(), name='training')\n",
    "\n",
    "# Data augmentation within input scope\n",
    "with tf.name_scope(\"inputs\"):\n",
    "    X = tf.placeholder(tf.float32, shape=[None, n_inputs], name=\"X\")\n",
    "    X_reshaped = tf.reshape(X, shape=[-1, height, width, channels], name=\"X_reshaped\")\n",
    "    X_flip = tf.map_fn(tf.image.random_flip_left_right, X_reshaped, name=\"X_flip\")\n",
    "    X_brightness = tf.image.random_brightness(X_flip, max_delta=0.1)\n",
    "    X_altered = tf.image.random_contrast(X_brightness, lower=0.95, upper=1.05)\n",
    "    y = tf.placeholder(tf.int32, shape=[None], name=\"y\")\n",
    "\n",
    "# First layers are borrowed from geron-mnist-cnn structure\n",
    "conv1 = tf.layers.conv2d(X_altered, filters=conv1_fmaps, kernel_size=conv1_ksize,\n",
    "                         strides=conv1_stride, padding=conv1_pad,\n",
    "                         activation=tf.nn.relu, name=\"conv1\")\n",
    "\n",
    "# Second layers are borrowed from geron-mnist-cnn structure\n",
    "conv2 = tf.layers.conv2d(conv1, filters=conv1_fmaps, kernel_size=conv1_ksize,\n",
    "                         strides=conv1_stride, padding=conv1_pad,\n",
    "                         activation=tf.nn.relu, name=\"conv2\")\n",
    "\n",
    "# Extra normalization\n",
    "norm1 = tf.nn.lrn(conv2, 3, bias=1.0, alpha=0.001/9.0, beta=0.75)\n",
    "\n",
    "# Third layers are borrowed from geron-mnist-cnn structure\n",
    "with tf.name_scope(\"pool2\"):\n",
    "    pool2 = tf.nn.max_pool(norm1, ksize=[1, 2, 2, 1], strides=[1, 1, 1, 1], padding=\"VALID\")\n",
    "    pool2_flat = tf.reshape(pool2, shape=[-1, pool2_fmaps * 4 * 4])\n",
    "\n",
    "# Extra convolutional layer\n",
    "conv3 = tf.layers.conv2d(pool2, filters=conv2_fmaps, kernel_size=conv2_ksize,\n",
    "                         strides=conv2_stride, padding=conv2_pad,\n",
    "                         activation=tf.nn.relu, name=\"conv3\")\n",
    "\n",
    "# Extra convolutional layer\n",
    "conv4 = tf.layers.conv2d(conv3, filters=conv2_fmaps, kernel_size=conv2_ksize,\n",
    "                         strides=conv2_stride, padding=conv2_pad,\n",
    "                         activation=tf.nn.relu, name=\"conv4\")\n",
    "\n",
    "# Extra normalization\n",
    "norm3 = tf.nn.lrn(conv4, 3, bias=1.0, alpha=0.001/9.0, beta=0.75)\n",
    "\n",
    "# Extra pooling layer\n",
    "with tf.name_scope(\"pool4\"):\n",
    "    pool4 = tf.nn.max_pool(norm3, ksize=[1, 2, 2, 1], strides=[1, 2, 2, 1], padding=\"VALID\")\n",
    "    pool4_flat = tf.reshape(pool4, shape=[-1, pool3_fmaps * 8 * 8])\n",
    "\n",
    "# Extra convolutional layer\n",
    "conv5 = tf.layers.conv2d(pool4, filters=conv3_fmaps, kernel_size=conv3_ksize,\n",
    "                         strides=conv3_stride, padding=conv3_pad,\n",
    "                         activation=tf.nn.relu, name=\"conv5\")\n",
    "\n",
    "# Extra pooling layer\n",
    "with tf.name_scope(\"pool6\"):\n",
    "    pool6 = tf.nn.max_pool(conv5, ksize=[1, 1, 1, 1], strides=[1, 2, 2, 1], padding=\"VALID\")\n",
    "    pool6_flat = tf.reshape(pool6, shape=[-1, pool3_fmaps * 2 * 2])\n",
    "\n",
    "# Hidden layers\n",
    "with tf.name_scope(\"fc1\"):\n",
    "    fc1 = tf.layers.dense(pool6_flat, n_fc1, activation=tf.nn.elu, name=\"fc1\", kernel_initializer=he_init)\n",
    "    fc1_drop = tf.layers.dropout(fc1, 0.25, training=training)\n",
    "    \n",
    "    fc2 = tf.layers.dense(fc1, n_fc2, activation=tf.nn.elu, name=\"fc2\", kernel_initializer=he_init)\n",
    "    fc2_drop = tf.layers.dropout(fc2, 0.25, training=training)\n",
    "    \n",
    "    fc3 = tf.layers.dense(fc2, n_fc3, activation=tf.nn.elu, name=\"fc3\", kernel_initializer=he_init)\n",
    "    fc3_drop = tf.layers.dropout(fc3, 0.25, training=training)\n",
    "    \n",
    "    fc4 = tf.layers.dense(fc3, n_fc4, activation=tf.nn.relu, name=\"fc4\", kernel_initializer=he_init)\n",
    "    fc4_drop = tf.layers.dropout(fc4, 0.25, training=training)\n",
    "    \n",
    "    fc5 = tf.layers.dense(fc4, n_fc5, activation=tf.nn.relu, name=\"fc5\", kernel_initializer=he_init)\n",
    "    fc5_drop = tf.layers.dropout(fc5, 0.25, training=training)\n",
    "\n",
    "# Output layer\n",
    "with tf.name_scope(\"output\"):\n",
    "    logits = tf.layers.dense(fc5, n_outputs, name=\"output\")\n",
    "    Y_proba = tf.nn.softmax(logits, name=\"Y_proba\")\n",
    "\n",
    "# Training scope\n",
    "with tf.name_scope(\"train\"):\n",
    "    xentropy = tf.nn.sparse_softmax_cross_entropy_with_logits(logits=logits, labels=y)\n",
    "    loss = tf.reduce_mean(xentropy)\n",
    "    optimizer = tf.train.AdamOptimizer()\n",
    "    training_op = optimizer.minimize(loss)\n",
    "\n",
    "# Evaluation scope\n",
    "with tf.name_scope(\"eval\"):\n",
    "    predict = tf.arg_max(logits, 1)\n",
    "    correct = tf.nn.in_top_k(logits, y, 1)\n",
    "    accuracy = tf.reduce_mean(tf.cast(correct, tf.float32))\n",
    "\n",
    "# Saving scope\n",
    "with tf.name_scope(\"init_and_save\"):\n",
    "    init = tf.global_variables_initializer()\n",
    "    saver = tf.train.Saver() "
   ]
  },
  {
   "cell_type": "markdown",
   "metadata": {},
   "source": [
    "## Execution Phase\n",
    "Now let us see how well this convolutional neural network preforms during training."
   ]
  },
  {
   "cell_type": "code",
   "execution_count": 451,
   "metadata": {
    "scrolled": true
   },
   "outputs": [
    {
     "name": "stdout",
     "output_type": "stream",
     "text": [
      "0 Train accuracy: 0.47854784 Test accuracy: 0.5\n",
      "1 Train accuracy: 0.5511551 Test accuracy: 0.543\n",
      "2 Train accuracy: 0.650165 Test accuracy: 0.6065\n",
      "3 Train accuracy: 0.5874587 Test accuracy: 0.6295\n",
      "4 Train accuracy: 0.6138614 Test accuracy: 0.6345\n",
      "5 Train accuracy: 0.5280528 Test accuracy: 0.512\n",
      "6 Train accuracy: 0.679868 Test accuracy: 0.64\n",
      "7 Train accuracy: 0.6633663 Test accuracy: 0.648\n",
      "8 Train accuracy: 0.68976897 Test accuracy: 0.6505\n",
      "9 Train accuracy: 0.650165 Test accuracy: 0.6\n",
      "10 Train accuracy: 0.70957094 Test accuracy: 0.659\n",
      "11 Train accuracy: 0.7260726 Test accuracy: 0.6625\n",
      "12 Train accuracy: 0.669967 Test accuracy: 0.6435\n",
      "13 Train accuracy: 0.7161716 Test accuracy: 0.668\n",
      "14 Train accuracy: 0.77557755 Test accuracy: 0.6765\n",
      "15 Train accuracy: 0.7491749 Test accuracy: 0.651\n",
      "16 Train accuracy: 0.70957094 Test accuracy: 0.6545\n",
      "17 Train accuracy: 0.7458746 Test accuracy: 0.6755\n",
      "18 Train accuracy: 0.7788779 Test accuracy: 0.6765\n",
      "19 Train accuracy: 0.7590759 Test accuracy: 0.678\n"
     ]
    }
   ],
   "source": [
    "# Log directory\n",
    "now = datetime.utcnow().strftime(\"%Y%m%d%H%M%S\")\n",
    "root_logdir = \"\"\n",
    "logdir = \"{}/run-{}/\".format(root_logdir, now)\n",
    "\n",
    "# File writer\n",
    "file_writer = tf.summary.FileWriter('logdir', tf.get_default_graph())\n",
    "saver = tf.train.Saver()\n",
    "\n",
    "# GPU configuration\n",
    "config = tf.ConfigProto()\n",
    "config.gpu_options.allow_growth = True\n",
    "\n",
    "# Training hyperparamters\n",
    "n_epochs = 20\n",
    "batch_size = 300\n",
    "\n",
    "# Store accuracy \n",
    "trains = []\n",
    "accs = []\n",
    "\n",
    "# Execution\n",
    "with tf.Session(config=config) as sess:\n",
    "    init.run()\n",
    "    for epoch in range(n_epochs):\n",
    "        for X_batch, y_batch in shuffle_batch(X_train, y_train, batch_size):\n",
    "            sess.run(training_op, feed_dict={X: X_batch, y: y_batch, training: True})\n",
    "        \n",
    "        acc_train = accuracy.eval(feed_dict={X: X_batch, y: y_batch})\n",
    "        acc_test = accuracy.eval(feed_dict={X: X_test, y: y_test})\n",
    "                \n",
    "        trains.append(acc_train)\n",
    "        accs.append(acc_test)\n",
    "        \n",
    "        print(epoch, \"Train accuracy:\", acc_train, \"Test accuracy:\", acc_test)\n",
    "    save_path = saver.save(sess, \"./CIFAR_final_model\")\n",
    "\n",
    "file_writer.close()"
   ]
  },
  {
   "cell_type": "markdown",
   "metadata": {},
   "source": [
    "Data augmentation and drop out expedited training and overall performance so m.  "
   ]
  },
  {
   "cell_type": "markdown",
   "metadata": {},
   "source": [
    "## Learning Curve"
   ]
  },
  {
   "cell_type": "code",
   "execution_count": 452,
   "metadata": {},
   "outputs": [
    {
     "data": {
      "image/png": "[encoded data removed]",
      "text/plain": [
       "<Figure size 720x360 with 1 Axes>"
      ]
     },
     "metadata": {},
     "output_type": "display_data"
    }
   ],
   "source": [
    "xs = [i for i in range(n_epochs)]\n",
    "plt.figure(figsize=(10,5))\n",
    "plt.plot(xs, trains, 'g', label='training')\n",
    "plt.plot(xs, accs, 'r', label='validation')\n",
    "plt.title('Training and Test Accuracy Over Time')\n",
    "plt.xlabel('Epoch')\n",
    "plt.ylabel('Accuracy')\n",
    "plt.legend()\n",
    "plt.show()"
   ]
  },
  {
   "cell_type": "markdown",
   "metadata": {},
   "source": [
    "From this learning curve it appears that our nueral network begins to overfit the training data after the sixth epoch. Also, the test accuracy plateaus after the thirteenth epoch. Perhaps more regularization is needed to prevent the model from overfitting.\n",
    "## Confusion Matrix"
   ]
  },
  {
   "cell_type": "code",
   "execution_count": 455,
   "metadata": {},
   "outputs": [
    {
     "name": "stdout",
     "output_type": "stream",
     "text": [
      "INFO:tensorflow:Restoring parameters from ./CIFAR_final_model\n",
      "Accuracy 0.6735\n"
     ]
    },
    {
     "data": {
      "image/png": "[encoded data removed]",
      "text/plain": [
       "<Figure size 864x360 with 2 Axes>"
      ]
     },
     "metadata": {},
     "output_type": "display_data"
    }
   ],
   "source": [
    "with tf.Session() as sess:\n",
    "    saver.restore(sess, \"./CIFAR_final_model\")\n",
    "    prediction = predict.eval(feed_dict={X: X_test, y: y_test})\n",
    "    \n",
    "matrix = confusion_matrix(prediction, y_test)\n",
    "df_cm = pd.DataFrame(matrix, range(2), range(2))\n",
    "\n",
    "plt.figure(figsize=(12,5))\n",
    "sns.set(font_scale=1.4)\n",
    "sns.heatmap(df_cm, annot=True,annot_kws={\"size\": 14}, cmap=\"coolwarm\")\n",
    "\n",
    "print(\"Accuracy\", np.mean(prediction == y_test));"
   ]
  },
  {
   "cell_type": "markdown",
   "metadata": {},
   "source": [
    "The accuracy of our final model is 0.6815 which is much better then the 0.5 baseline. From the confusion matrix we can see that the model has some bias towards predicting cats. We have done about eveything we can to optimize our convilutional nueral network. More data is required to further improve the performace of this model."
   ]
  }
 ],
 "metadata": {
  "kernelspec": {
   "display_name": "Python 3",
   "language": "python",
   "name": "python3"
  },
  "language_info": {
   "codemirror_mode": {
    "name": "ipython",
    "version": 3
   },
   "file_extension": ".py",
   "mimetype": "text/x-python",
   "name": "python",
   "nbconvert_exporter": "python",
   "pygments_lexer": "ipython3",
   "version": "3.6.7"
  }
 },
 "nbformat": 4,
 "nbformat_minor": 2
}
